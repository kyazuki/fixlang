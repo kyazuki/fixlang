{
  "nbformat": 4,
  "nbformat_minor": 0,
  "metadata": {
    "colab": {
      "provenance": [],
      "authorship_tag": "ABX9TyOY98NFyDBVbJLYfuIp6bEC",
      "include_colab_link": true
    },
    "kernelspec": {
      "name": "python3",
      "display_name": "Python 3"
    },
    "language_info": {
      "name": "python"
    }
  },
  "cells": [
    {
      "cell_type": "markdown",
      "metadata": {
        "id": "view-in-github",
        "colab_type": "text"
      },
      "source": [
        "<a href=\"https://colab.research.google.com/github/tttmmmyyyy/fixlang/blob/main/run_fix.ipynb\" target=\"_parent\"><img src=\"https://colab.research.google.com/assets/colab-badge.svg\" alt=\"Open In Colab\"/></a>"
      ]
    },
    {
      "cell_type": "code",
      "source": [
        "source = r'''\n",
        "\n",
        "module Main;\n",
        "\n",
        "// Calculate a Bool array whose element is true iff idx is prime.\n",
        "is_prime : Int -> Array Bool;\n",
        "is_prime = |n| (\n",
        "    let arr = Array.new(n, true);\n",
        "    let arr = arr.set!(0, false);\n",
        "    let arr = arr.set!(1, false);\n",
        "    loop((2, arr), |(i, arr)|\n",
        "        if i*i > n { break $ arr };\n",
        "        let next_arr = (\n",
        "            if !arr.get(i) { arr };\n",
        "            loop((i+i, arr), |(q, arr)|\n",
        "                if n-1 < q { break $ arr };\n",
        "                continue $ (q+i, arr.set!(q, false))\n",
        "            )\n",
        "        );\n",
        "        continue $ (i+1, next_arr)\n",
        "    )\n",
        ");\n",
        "\n",
        "// Count the number of occurrences of the value in an array.\n",
        "count : [a: Eq] a -> Array a -> Int;\n",
        "count = |elem, arr| (\n",
        "    loop((0, 0), |(i, sum)|\n",
        "        if arr.len == i { break $ sum };\n",
        "        let sum = sum + (if arr.get(i) == elem {1} else {0});\n",
        "        continue $ (i+1, sum)\n",
        "    )\n",
        ");\n",
        "\n",
        "main : IOState -> ((), IOState);\n",
        "main = |io| (\n",
        "    let (_, io) = io.print(\"The number of primes under 10^7 is \");\n",
        "    io.println(is_prime(10000000).count(true).to_string)\n",
        ");\n",
        "'''\n",
        "\n",
        "# Run \"source\" as a fix program:\n",
        "source_file_name = 'source.fix'\n",
        "fix_binary_name = 'fix-prebuilt-binary'\n",
        "with open(source_file_name, 'w') as f:\n",
        "    f.write(source)\n",
        "\n",
        "file_list = !ls\n",
        "file_list = str(file_list)\n",
        "if fix_binary_name not in file_list:\n",
        "   !wget https://github.com/tttmmmyyyy/fixlang/raw/main/prebuilt/x86_64-linux-ubuntu20.04/fix -O $fix_binary_name\n",
        "   !chmod u+x $fix_binary_name\n",
        "\n",
        "!./$fix_binary_name run $source_file_name"
      ],
      "metadata": {
        "colab": {
          "base_uri": "https://localhost:8080/"
        },
        "id": "vysGXxLMtoS9",
        "outputId": "f9520901-54de-477a-c40b-483fb55ea50d"
      },
      "execution_count": 5,
      "outputs": [
        {
          "output_type": "stream",
          "name": "stdout",
          "text": [
            "The number of primes under 10^7 is 664579\n"
          ]
        }
      ]
    }
  ]
}